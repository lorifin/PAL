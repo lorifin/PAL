{
  "nbformat": 4,
  "nbformat_minor": 0,
  "metadata": {
    "colab": {
      "provenance": [],
      "authorship_tag": "ABX9TyOywh8J6JKBERgBoIvx2dxi",
      "include_colab_link": true
    },
    "kernelspec": {
      "name": "python3",
      "display_name": "Python 3"
    },
    "language_info": {
      "name": "python"
    }
  },
  "cells": [
    {
      "cell_type": "markdown",
      "metadata": {
        "id": "view-in-github",
        "colab_type": "text"
      },
      "source": [
        "<a href=\"https://colab.research.google.com/github/lorifin/PAL/blob/main/Codir_demo_git.ipynb\" target=\"_parent\"><img src=\"https://colab.research.google.com/assets/colab-badge.svg\" alt=\"Open In Colab\"/></a>"
      ]
    },
    {
      "cell_type": "code",
      "execution_count": null,
      "metadata": {
        "id": "vfy2EdqOzaXv"
      },
      "outputs": [],
      "source": [
        "# 1. Installer les dépendances (si besoin)\n",
        "!pip install openai matplotlib pandas\n",
        "\n",
        "# 2. Import des librairies\n",
        "import pandas as pd\n",
        "import matplotlib.pyplot as plt\n",
        "import openai\n",
        "\n",
        "# 3. Import des données depuis le fichier CSV\n",
        "df = pd.read_csv(\"data_codir.csv\")\n",
        "display(df)\n",
        "\n",
        "# 4. Génération du graphique\n",
        "mois = df[\"Mois\"]\n",
        "ca = df[\"CA réalisé (€)\"]\n",
        "objectif = df[\"Objectif (€)\"]\n",
        "pipe = df[\"Pipe (€)\"]\n",
        "\n",
        "plt.figure(figsize=(8,5))\n",
        "plt.plot(mois, ca, marker='o', label='CA Réalisé')\n",
        "plt.plot(mois, objectif, marker='o', linestyle='--', label='Objectif')\n",
        "plt.bar(mois, pipe, alpha=0.2, label='Pipe')\n",
        "plt.title(\"Synthèse Commerciale Trimestrielle\")\n",
        "plt.ylabel(\"Montant (€)\")\n",
        "plt.legend()\n",
        "plt.tight_layout()\n",
        "plt.show()\n",
        "\n",
        "# 5. Génération de la synthèse Codir automatique (GPT)\n",
        "openai.api_key = \"\"\n",
        "prompt = f\"\"\"\n",
        "Voici le tableau des indicateurs commerciaux du trimestre :\n",
        "Mois : {', '.join(df['Mois'])}\n",
        "CA réalisé : {', '.join(str(x) for x in df['CA réalisé (€)'])}\n",
        "Objectif : {', '.join(str(x) for x in df['Objectif (€)'])}\n",
        "Pipe : {', '.join(str(x) for x in df['Pipe (€)'])}\n",
        "Opportunités : {', '.join(df['Opportunités'])}\n",
        "Risques : {', '.join(df['Risques/Blocages'])}\n",
        "\n",
        "Donne-moi :\n",
        "1. Une synthèse Codir (en 3 phrases)\n",
        "2. Les 2 points de vigilance et opportunités majeures\n",
        "3. 2 actions prioritaires à piloter ce trimestre\n",
        "\"\"\"\n",
        "\n",
        "response = openai.chat.completions.create(\n",
        "    model=\"gpt-4o\",\n",
        "    messages=[{\"role\": \"user\", \"content\": prompt}],\n",
        "    max_tokens=300,\n",
        "    temperature=0.2,\n",
        ")\n",
        "\n",
        "synthese_codir = response.choices[0].message.content\n",
        "print(\"==== Synthèse automatique Codir ====\")\n",
        "print(synthese_codir)\n",
        "\n",
        "# 6. Export du rapport Codir en .txt\n",
        "with open(\"rapport_codir.txt\", \"w\") as f:\n",
        "    f.write(\"Synthèse Codir trimestrielle\\n\")\n",
        "    f.write(df.to_string(index=False))\n",
        "    f.write(\"\\n\\n\")\n",
        "    f.write(synthese_codir)\n"
      ]
    }
  ]
}